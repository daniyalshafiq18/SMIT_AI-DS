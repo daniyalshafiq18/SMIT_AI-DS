{
 "cells": [
  {
   "cell_type": "markdown",
   "metadata": {},
   "source": [
    "#### Personal Message:\n",
    "Store a person's name in a variable and print a message to that person. Your message should be simple, such as, \"Hello Eric, would you like to learn some Python today?\""
   ]
  },
  {
   "cell_type": "code",
   "execution_count": 1,
   "metadata": {},
   "outputs": [
    {
     "name": "stdout",
     "output_type": "stream",
     "text": [
      "Hello Daniyal, would you like to learn some Python today?\n"
     ]
    }
   ],
   "source": [
    "name = \"Daniyal\"\n",
    "print(f\"Hello {name}, would you like to learn some Python today?\")"
   ]
  },
  {
   "cell_type": "markdown",
   "metadata": {},
   "source": [
    "#### Name Cases:\n",
    "Store a person's name in a variable, and then print that person's name in lowercase, uppercase, and titlecase."
   ]
  },
  {
   "cell_type": "code",
   "execution_count": 2,
   "metadata": {},
   "outputs": [
    {
     "name": "stdout",
     "output_type": "stream",
     "text": [
      "Lowercase:  muhammad daniyal\n",
      "Uppercase:  MUHAMMAD DANIYAL\n",
      "Titlecase:  Muhammad daniyal\n"
     ]
    }
   ],
   "source": [
    "name = \"Muhammad Daniyal\"\n",
    "print(\"Lowercase: \", name.lower())\n",
    "print(\"Uppercase: \", name.upper())\n",
    "print(\"Titlecase: \", name.capitalize())\n"
   ]
  },
  {
   "cell_type": "markdown",
   "metadata": {},
   "source": [
    "#### Famous Quote:\n",
    "Find a quote from a famous person you admire. Print the quote and name of the auther. Your output should look something like the following , including the quotation marks:\n",
    "Albert Einstein once said, \"A person who never made a mistake never tried anything new.\""
   ]
  },
  {
   "cell_type": "code",
   "execution_count": 3,
   "metadata": {},
   "outputs": [
    {
     "name": "stdout",
     "output_type": "stream",
     "text": [
      "Bill Gates once said, \"Don't compare yourself with anyone in this world. If you do so, you are insulting yourself.\"\n"
     ]
    }
   ],
   "source": [
    "print('Bill Gates once said, \\\"Don\\'t compare yourself with anyone in this world. If you do so, you are insulting yourself.\\\"')"
   ]
  },
  {
   "cell_type": "markdown",
   "metadata": {},
   "source": [
    "#### Famous Quote 2:\n",
    "Repeat the above exercise, but this time store the famouse person's name in a variable called famous_person. Then compose your message and store it in a new variable called message. Print your message."
   ]
  },
  {
   "cell_type": "code",
   "execution_count": 4,
   "metadata": {},
   "outputs": [
    {
     "name": "stdout",
     "output_type": "stream",
     "text": [
      "Bill Gates once said, \"Don't compare yourself with anyone in this world. If you do so, you are insulting yourself.\"\n"
     ]
    }
   ],
   "source": [
    "famous_person = \"Bill Gates\"\n",
    "message = famous_person + ' once said, \\\"Don\\'t compare yourself with anyone in this world. If you do so, you are insulting yourself.\\\"'\n",
    "print(message)"
   ]
  },
  {
   "cell_type": "markdown",
   "metadata": {},
   "source": [
    "#### Stripping Names:\n",
    "Store a person's name and add some whitespace characters at the beginning and end of the name. Make sure you use each character combination, \"\\t\" and \"\\n\", at least once.\n",
    "Print the name once, so the whitespace around the name is displayed. Then print the name using each of three stripping functions, lstrip(), rstrip(), and strip()."
   ]
  },
  {
   "cell_type": "code",
   "execution_count": 5,
   "metadata": {},
   "outputs": [
    {
     "name": "stdout",
     "output_type": "stream",
     "text": [
      "Original name:  \t Muhammad Daniyal \n",
      "\n",
      "Using lstrip():  Muhammad Daniyal \n",
      "\n",
      "Using rstrip():  \t Muhammad Daniyal\n",
      "Using strip():  Muhammad Daniyal\n"
     ]
    }
   ],
   "source": [
    "name = \"\\t Muhammad Daniyal \\n\"\n",
    "\n",
    "print(\"Original name: \", name)\n",
    "print(\"Using lstrip(): \", name.lstrip())\n",
    "print(\"Using rstrip(): \", name.rstrip())\n",
    "print(\"Using strip(): \", name.strip())\n"
   ]
  }
 ],
 "metadata": {
  "kernelspec": {
   "display_name": "base",
   "language": "python",
   "name": "python3"
  },
  "language_info": {
   "codemirror_mode": {
    "name": "ipython",
    "version": 3
   },
   "file_extension": ".py",
   "mimetype": "text/x-python",
   "name": "python",
   "nbconvert_exporter": "python",
   "pygments_lexer": "ipython3",
   "version": "3.12.7"
  }
 },
 "nbformat": 4,
 "nbformat_minor": 2
}
